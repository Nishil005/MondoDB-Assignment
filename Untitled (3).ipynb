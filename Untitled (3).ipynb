{
 "cells": [
  {
   "cell_type": "markdown",
   "id": "65a6b8e3-ee07-4b6c-bd8f-72621d9a212f",
   "metadata": {},
   "source": [
    "Q1. What is MongoDB? Explain non-relational databases in short. In which scenarios it is preferred to use\n",
    "MongoDB over SQL databases?"
   ]
  },
  {
   "cell_type": "markdown",
   "id": "6d0da126-9a3e-4847-a86c-269b319951b4",
   "metadata": {},
   "source": [
    "MongoDB is a document-oriented, non-relational database that supports JSON-like storage. In contrast to conventional relational databases, non-relational databases (commonly referred to as NoSQL databases) store their data in a non-tabular format. Non-relational databases, on the other hand, might be built using data structures like documents.\n",
    "\n",
    "When dealing with unstructured, complicated, and data that needs to be handled in big quantities and stored as documents2, MongoDB may be recommended over SQL. While a NoSQL database like MongoDB may be used if your system meets the requirements and optimised querying is desired, SQL may be better suited for basic use and systems with few features."
   ]
  },
  {
   "cell_type": "markdown",
   "id": "931f97e0-ed3d-4f6c-a569-de3154ec0c16",
   "metadata": {},
   "source": [
    "Q2. State and Explain the features of MongoDB."
   ]
  },
  {
   "cell_type": "markdown",
   "id": "55cf20bf-8c94-4d4a-a880-a2e9da6bb917",
   "metadata": {},
   "source": [
    "MongoDB is a scalable, adaptable NoSQL document database platform created to overcome the relational databases approach and the constraints of previous NoSQL solutions. MongoDB is well renowned for its load balancing and horizontal scaling features, which have provided application developers an unheard-of level of flexibility and scalability.\n",
    "Some of the features of MongoDB are:\n",
    "Document mode \n",
    "sharding \n",
    "replication\n",
    "support and hoc queries\n",
    "Indexing\n",
    "master slave replication."
   ]
  },
  {
   "cell_type": "markdown",
   "id": "d69a40bf-3743-4812-b2ee-1680572bd0a5",
   "metadata": {},
   "source": [
    "Q3. Write a code to connect MongoDB to Python. Also, create a database and a collection in MongoDB."
   ]
  },
  {
   "cell_type": "code",
   "execution_count": null,
   "id": "9bc23170-8b39-477c-99d2-91d918a73b64",
   "metadata": {},
   "outputs": [],
   "source": [
    "from pymongo import MongoClient\n",
    "\n",
    "# Create a connection using MongoClient\n",
    "client = MongoClient('localhost', 27017)\n",
    "\n",
    "# Create a database\n",
    "db = client['mydatabase']\n",
    "\n",
    "# Create a collection\n",
    "collection = db['mycollection']\n",
    "\n",
    "# Insert data into the collection\n",
    "post = {\"author\": \"Mike\",\n",
    "        \"text\": \"My first blog post!\",\n",
    "        \"tags\": [\"mongodb\", \"python\", \"pymongo\"]}\n",
    "collection.insert_one(post)\n",
    "\n",
    "# Close connection to MongoDB when done\n",
    "client.close()\n"
   ]
  },
  {
   "cell_type": "markdown",
   "id": "ca6323d6-59a4-470d-8eba-88768e77b9f9",
   "metadata": {},
   "source": [
    "Q4. Using the database and the collection created in question number 3, write a code to insert one record,\n",
    "and insert many records. Use the find() and find_one() methods to print the inserted record."
   ]
  },
  {
   "cell_type": "code",
   "execution_count": null,
   "id": "bf1a611b-d0a4-4cca-82ea-15f12d245995",
   "metadata": {},
   "outputs": [],
   "source": [
    "from pymongo import MongoClient\n",
    "\n",
    "# Create a connection using MongoClient\n",
    "client = MongoClient('localhost', 27017)\n",
    "\n",
    "# Create a database\n",
    "db = client['mydatabase']\n",
    "\n",
    "# Create a collection\n",
    "collection = db['mycollection']\n",
    "\n",
    "# Insert one record into the collection\n",
    "post = {\"author\": \"Mike\",\n",
    "        \"text\": \"My first blog post!\",\n",
    "        \"tags\": [\"mongodb\", \"python\", \"pymongo\"]}\n",
    "collection.insert_one(post)\n",
    "\n",
    "# Insert many records into the collection\n",
    "new_posts = [{\"author\": \"Mike\",\n",
    "              \"text\": \"Another post!\",\n",
    "              \"tags\": [\"bulk\", \"insert\"],\n",
    "              \"date\": datetime.datetime(2009, 11, 12, 11, 14)},\n",
    "             {\"author\": \"Eliot\",\n",
    "              \"title\": \"MongoDB is fun\",\n",
    "              \"text\": \"and pretty easy too!\",\n",
    "              \"date\": datetime.datetime(2009, 11, 10, 10, 45)}]\n",
    "collection.insert_many(new_posts)\n",
    "\n",
    "# Find one record from the collection\n",
    "print(collection.find_one())\n",
    "\n",
    "# Find all records from the collection\n",
    "for post in collection.find():\n",
    "    print(post)\n",
    "\n",
    "# Close connection to MongoDB when done\n",
    "client.close()\n"
   ]
  },
  {
   "cell_type": "markdown",
   "id": "7ce8f12d-9cbd-45c5-974b-3f53259c0a6c",
   "metadata": {},
   "source": [
    "Q5. Explain how you can use the find() method to query the MongoDB database. Write a simple code to\n",
    "demonstrate this.\n",
    "\n",
    "The find() method is used to query the MongoDB database. It returns a cursor object that can be used to iterate over the results of the query. The find() method can take an optional query parameter that specifies the criteria for selecting documents from the collection."
   ]
  },
  {
   "cell_type": "code",
   "execution_count": null,
   "id": "028b5995-1a59-4805-9c7b-b9f008aab44b",
   "metadata": {},
   "outputs": [],
   "source": [
    "from pymongo import MongoClient\n",
    "\n",
    "# Create a connection using MongoClient\n",
    "client = MongoClient('localhost', 27017)\n",
    "\n",
    "# Create a database\n",
    "db = client['mydatabase']\n",
    "\n",
    "# Create a collection\n",
    "collection = db['mycollection']\n",
    "\n",
    "# Insert data into the collection\n",
    "post = {\"author\": \"Mike\",\n",
    "        \"text\": \"My first blog post!\",\n",
    "        \"tags\": [\"mongodb\", \"python\", \"pymongo\"]}\n",
    "collection.insert_one(post)\n",
    "\n",
    "# Find all records from the collection\n",
    "for post in collection.find():\n",
    "    print(post)\n",
    "\n",
    "# Find records that match a specific criteria\n",
    "for post in collection.find({\"author\": \"Mike\"}):\n",
    "    print(post)\n",
    "\n",
    "# Close connection to MongoDB when done\n",
    "client.close()\n"
   ]
  },
  {
   "cell_type": "markdown",
   "id": "20383ea7-d830-4d87-a9ca-8d24b3eebbfe",
   "metadata": {},
   "source": [
    "Q6. Explain the sort() method. Give an example to demonstrate sorting in MongoDB.\n",
    "\n",
    "The sort() method is used to sort the results of a query in MongoDB. It takes one or more fields as arguments and sorts the results in ascending or descending order based on those fields."
   ]
  },
  {
   "cell_type": "code",
   "execution_count": null,
   "id": "e8105b4a-f9c1-430a-a818-4a27a30f102c",
   "metadata": {},
   "outputs": [],
   "source": [
    "from pymongo import MongoClient\n",
    "\n",
    "# Create a connection using MongoClient\n",
    "client = MongoClient('localhost', 27017)\n",
    "\n",
    "# Create a database\n",
    "db = client['mydatabase']\n",
    "\n",
    "# Create a collection\n",
    "collection = db['mycollection']\n",
    "\n",
    "# Insert data into the collection\n",
    "post1 = {\"author\": \"Mike\",\n",
    "         \"text\": \"My first blog post!\",\n",
    "         \"tags\": [\"mongodb\", \"python\", \"pymongo\"],\n",
    "         \"date\": datetime.datetime(2009, 11, 12, 11, 14)}\n",
    "post2 = {\"author\": \"Mike\",\n",
    "         \"text\": \"Another post!\",\n",
    "         \"tags\": [\"bulk\", \"insert\"],\n",
    "         \"date\": datetime.datetime(2009, 11, 10, 10, 45)}\n",
    "post3 = {\"author\": \"Eliot\",\n",
    "         \"title\": \"MongoDB is fun\",\n",
    "         \"text\": \"and pretty easy too!\",\n",
    "         \"date\": datetime.datetime(2009, 11, 10, 10, 46)}\n",
    "collection.insert_many([post1, post2, post3])\n",
    "\n",
    "# Find all records from the collection and sort them by date in ascending order\n",
    "for post in collection.find().sort(\"date\"):\n",
    "    print(post)\n",
    "\n",
    "# Find all records from the collection and sort them by author in descending order\n",
    "for post in collection.find().sort(\"author\", -1):\n",
    "    print(post)\n",
    "\n",
    "# Close connection to MongoDB when done\n",
    "client.close()\n"
   ]
  },
  {
   "cell_type": "markdown",
   "id": "e5a1ede7-d8d3-4a04-abab-855c3f61e6c6",
   "metadata": {},
   "source": [
    "Q7. Explain why delete_one(), delete_many(), and drop() is used."
   ]
  },
  {
   "cell_type": "markdown",
   "id": "edf299a8-1b67-4081-831e-bc60fe267f91",
   "metadata": {},
   "source": [
    "The delete_one() method is used to delete a single document from a collection in MongoDB that matches a specified filter. The delete_many() method is used to delete multiple documents from a collection in MongoDB that match a specified filter. The drop() method is used to drop an entire collection from a database in MongoDB."
   ]
  }
 ],
 "metadata": {
  "kernelspec": {
   "display_name": "Python 3 (ipykernel)",
   "language": "python",
   "name": "python3"
  },
  "language_info": {
   "codemirror_mode": {
    "name": "ipython",
    "version": 3
   },
   "file_extension": ".py",
   "mimetype": "text/x-python",
   "name": "python",
   "nbconvert_exporter": "python",
   "pygments_lexer": "ipython3",
   "version": "3.10.8"
  }
 },
 "nbformat": 4,
 "nbformat_minor": 5
}
